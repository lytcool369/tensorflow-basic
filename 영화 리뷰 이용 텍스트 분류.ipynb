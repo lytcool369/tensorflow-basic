{
 "cells": [
  {
   "cell_type": "code",
   "execution_count": 1,
   "metadata": {},
   "outputs": [
    {
     "name": "stdout",
     "output_type": "stream",
     "text": [
      "2.1.0\n"
     ]
    }
   ],
   "source": [
    "import tensorflow as tf\n",
    "from tensorflow import keras\n",
    "import numpy as np\n",
    "\n",
    "print(tf.__version__)"
   ]
  },
  {
   "cell_type": "code",
   "execution_count": 2,
   "metadata": {},
   "outputs": [],
   "source": [
    "imdb = keras.datasets.imdb\n",
    "(train_data, train_labels), (test_data, test_labels) = imdb.load_data(num_words=10000)"
   ]
  },
  {
   "cell_type": "code",
   "execution_count": 3,
   "metadata": {},
   "outputs": [
    {
     "name": "stdout",
     "output_type": "stream",
     "text": [
      "훈련 샘플: 25000, 레이블: 25000\n"
     ]
    }
   ],
   "source": [
    "print(\"훈련 샘플: {}, 레이블: {}\".format(len(train_data), len(train_labels)))"
   ]
  },
  {
   "cell_type": "code",
   "execution_count": 4,
   "metadata": {},
   "outputs": [
    {
     "name": "stdout",
     "output_type": "stream",
     "text": [
      "[1, 14, 22, 16, 43, 530, 973, 1622, 1385, 65, 458, 4468, 66, 3941, 4, 173, 36, 256, 5, 25, 100, 43, 838, 112, 50, 670, 2, 9, 35, 480, 284, 5, 150, 4, 172, 112, 167, 2, 336, 385, 39, 4, 172, 4536, 1111, 17, 546, 38, 13, 447, 4, 192, 50, 16, 6, 147, 2025, 19, 14, 22, 4, 1920, 4613, 469, 4, 22, 71, 87, 12, 16, 43, 530, 38, 76, 15, 13, 1247, 4, 22, 17, 515, 17, 12, 16, 626, 18, 2, 5, 62, 386, 12, 8, 316, 8, 106, 5, 4, 2223, 5244, 16, 480, 66, 3785, 33, 4, 130, 12, 16, 38, 619, 5, 25, 124, 51, 36, 135, 48, 25, 1415, 33, 6, 22, 12, 215, 28, 77, 52, 5, 14, 407, 16, 82, 2, 8, 4, 107, 117, 5952, 15, 256, 4, 2, 7, 3766, 5, 723, 36, 71, 43, 530, 476, 26, 400, 317, 46, 7, 4, 2, 1029, 13, 104, 88, 4, 381, 15, 297, 98, 32, 2071, 56, 26, 141, 6, 194, 7486, 18, 4, 226, 22, 21, 134, 476, 26, 480, 5, 144, 30, 5535, 18, 51, 36, 28, 224, 92, 25, 104, 4, 226, 65, 16, 38, 1334, 88, 12, 16, 283, 5, 16, 4472, 113, 103, 32, 15, 16, 5345, 19, 178, 32]\n"
     ]
    }
   ],
   "source": [
    "print(train_data[0])"
   ]
  },
  {
   "cell_type": "code",
   "execution_count": 5,
   "metadata": {},
   "outputs": [
    {
     "data": {
      "text/plain": [
       "(218, 189)"
      ]
     },
     "execution_count": 5,
     "metadata": {},
     "output_type": "execute_result"
    }
   ],
   "source": [
    "len(train_data[0]), len(train_data[1])"
   ]
  },
  {
   "cell_type": "code",
   "execution_count": 6,
   "metadata": {},
   "outputs": [],
   "source": [
    "# 단어와 정수 인덱스를 매핑한 딕셔너리\n",
    "word_index = imdb.get_word_index()\n",
    "\n",
    "# 처음 몇 개 인덱스는 사전에 정의되어 있습니다\n",
    "word_index = {k:(v+3) for k,v in word_index.items()}\n",
    "word_index[\"<PAD>\"] = 0\n",
    "word_index[\"<START>\"] = 1\n",
    "word_index[\"<UNK>\"] = 2 # unknown\n",
    "word_index[\"<UNUSED>\"] = 3\n",
    "reverse_word_index = dict([(value, key) for (key, value) in word_index.items()])\n",
    "\n",
    "def decode_review(text):\n",
    "    return ' '.join([reverse_word_index.get(i, '?') for i in text])"
   ]
  },
  {
   "cell_type": "code",
   "execution_count": 7,
   "metadata": {},
   "outputs": [
    {
     "data": {
      "text/plain": [
       "\"<START> this film was just brilliant casting location scenery story direction everyone's really suited the part they played and you could just imagine being there robert <UNK> is an amazing actor and now the same being director <UNK> father came from the same scottish island as myself so i loved the fact there was a real connection with this film the witty remarks throughout the film were great it was just brilliant so much that i bought the film as soon as it was released for <UNK> and would recommend it to everyone to watch and the fly fishing was amazing really cried at the end it was so sad and you know what they say if you cry at a film it must have been good and this definitely was also <UNK> to the two little boy's that played the <UNK> of norman and paul they were just brilliant children are often left out of the <UNK> list i think because the stars that play them all grown up are such a big profile for the whole film but these children are amazing and should be praised for what they have done don't you think the whole story was so lovely because it was true and was someone's life after all that was shared with us all\""
      ]
     },
     "execution_count": 7,
     "metadata": {},
     "output_type": "execute_result"
    }
   ],
   "source": [
    "decode_review(train_data[0])"
   ]
  },
  {
   "cell_type": "code",
   "execution_count": 8,
   "metadata": {},
   "outputs": [
    {
     "data": {
      "text/plain": [
       "(256, 256)"
      ]
     },
     "execution_count": 8,
     "metadata": {},
     "output_type": "execute_result"
    }
   ],
   "source": [
    "train_data = keras.preprocessing.sequence.pad_sequences(train_data,\n",
    "                                                        value=word_index[\"<PAD>\"],\n",
    "                                                        padding='post',\n",
    "                                                        maxlen=256)\n",
    "test_data = keras.preprocessing.sequence.pad_sequences(test_data,\n",
    "                                                       value=word_index[\"<PAD>\"],\n",
    "                                                       padding='post',\n",
    "                                                       maxlen=256)\n",
    "len(train_data[0]), len(train_data[1])"
   ]
  },
  {
   "cell_type": "code",
   "execution_count": 24,
   "metadata": {},
   "outputs": [
    {
     "name": "stdout",
     "output_type": "stream",
     "text": [
      "Model: \"sequential_2\"\n",
      "_________________________________________________________________\n",
      "Layer (type)                 Output Shape              Param #   \n",
      "=================================================================\n",
      "embedding_2 (Embedding)      (None, None, 16)          160000    \n",
      "_________________________________________________________________\n",
      "global_average_pooling1d_2 ( (None, 16)                0         \n",
      "_________________________________________________________________\n",
      "dense_4 (Dense)              (None, 16)                272       \n",
      "_________________________________________________________________\n",
      "dense_5 (Dense)              (None, 1)                 17        \n",
      "=================================================================\n",
      "Total params: 160,289\n",
      "Trainable params: 160,289\n",
      "Non-trainable params: 0\n",
      "_________________________________________________________________\n"
     ]
    }
   ],
   "source": [
    "# 입력 크기는 영화 리뷰 데이터셋에 적용된 어휘 사전의 크기입니다(10,000개의 단어)\n",
    "vocab_size = 10000\n",
    "model = keras.Sequential()\n",
    "model.add(keras.layers.Embedding(vocab_size, 16, input_shape=(None,)))\n",
    "model.add(keras.layers.GlobalAveragePooling1D())\n",
    "model.add(keras.layers.Dense(16, activation='relu'))\n",
    "model.add(keras.layers.Dense(1, activation='sigmoid'))\n",
    "model.summary()"
   ]
  },
  {
   "cell_type": "code",
   "execution_count": 25,
   "metadata": {},
   "outputs": [],
   "source": [
    "model.compile(optimizer='adam',\n",
    "              loss='binary_crossentropy',\n",
    "              metrics=['accuracy'])"
   ]
  },
  {
   "cell_type": "code",
   "execution_count": 26,
   "metadata": {},
   "outputs": [],
   "source": [
    "x_val = train_data[:10000]\n",
    "partial_x_train = train_data[10000:]\n",
    "y_val = train_labels[:10000]\n",
    "partial_y_train = train_labels[10000:]"
   ]
  },
  {
   "cell_type": "code",
   "execution_count": 27,
   "metadata": {},
   "outputs": [
    {
     "name": "stdout",
     "output_type": "stream",
     "text": [
      "Train on 15000 samples, validate on 10000 samples\n",
      "Epoch 1/40\n",
      "15000/15000 [==============================] - 2s 101us/sample - loss: 0.6920 - accuracy: 0.6001 - val_loss: 0.6899 - val_accuracy: 0.6738\n",
      "Epoch 2/40\n",
      "15000/15000 [==============================] - 1s 50us/sample - loss: 0.6860 - accuracy: 0.6869 - val_loss: 0.6816 - val_accuracy: 0.7291\n",
      "Epoch 3/40\n",
      "15000/15000 [==============================] - 1s 51us/sample - loss: 0.6739 - accuracy: 0.7638 - val_loss: 0.6670 - val_accuracy: 0.7600\n",
      "Epoch 4/40\n",
      "15000/15000 [==============================] - 1s 53us/sample - loss: 0.6529 - accuracy: 0.7809 - val_loss: 0.6428 - val_accuracy: 0.7721\n",
      "Epoch 5/40\n",
      "15000/15000 [==============================] - 1s 54us/sample - loss: 0.6211 - accuracy: 0.7889 - val_loss: 0.6087 - val_accuracy: 0.7849\n",
      "Epoch 6/40\n",
      "15000/15000 [==============================] - 1s 52us/sample - loss: 0.5794 - accuracy: 0.8108 - val_loss: 0.5676 - val_accuracy: 0.8031\n",
      "Epoch 7/40\n",
      "15000/15000 [==============================] - ETA: 0s - loss: 0.5334 - accuracy: 0.82 - 1s 51us/sample - loss: 0.5324 - accuracy: 0.8291 - val_loss: 0.5243 - val_accuracy: 0.8185\n",
      "Epoch 8/40\n",
      "15000/15000 [==============================] - 1s 51us/sample - loss: 0.4846 - accuracy: 0.8453 - val_loss: 0.4826 - val_accuracy: 0.8311\n",
      "Epoch 9/40\n",
      "15000/15000 [==============================] - 1s 52us/sample - loss: 0.4401 - accuracy: 0.8605 - val_loss: 0.4450 - val_accuracy: 0.8439\n",
      "Epoch 10/40\n",
      "15000/15000 [==============================] - 1s 52us/sample - loss: 0.4006 - accuracy: 0.8721 - val_loss: 0.4135 - val_accuracy: 0.8519\n",
      "Epoch 11/40\n",
      "15000/15000 [==============================] - 1s 51us/sample - loss: 0.3672 - accuracy: 0.8805 - val_loss: 0.3879 - val_accuracy: 0.8591\n",
      "Epoch 12/40\n",
      "15000/15000 [==============================] - 1s 51us/sample - loss: 0.3393 - accuracy: 0.8895 - val_loss: 0.3676 - val_accuracy: 0.8645\n",
      "Epoch 13/40\n",
      "15000/15000 [==============================] - 1s 50us/sample - loss: 0.3152 - accuracy: 0.8963 - val_loss: 0.3513 - val_accuracy: 0.8690\n",
      "Epoch 14/40\n",
      "15000/15000 [==============================] - 1s 50us/sample - loss: 0.2948 - accuracy: 0.9002 - val_loss: 0.3383 - val_accuracy: 0.8730\n",
      "Epoch 15/40\n",
      "15000/15000 [==============================] - 1s 51us/sample - loss: 0.2777 - accuracy: 0.9043 - val_loss: 0.3276 - val_accuracy: 0.8736\n",
      "Epoch 16/40\n",
      "15000/15000 [==============================] - 1s 50us/sample - loss: 0.2619 - accuracy: 0.9110 - val_loss: 0.3184 - val_accuracy: 0.8779\n",
      "Epoch 17/40\n",
      "15000/15000 [==============================] - 1s 52us/sample - loss: 0.2489 - accuracy: 0.9135 - val_loss: 0.3112 - val_accuracy: 0.8796\n",
      "Epoch 18/40\n",
      "15000/15000 [==============================] - 1s 51us/sample - loss: 0.2353 - accuracy: 0.9197 - val_loss: 0.3063 - val_accuracy: 0.8785\n",
      "Epoch 19/40\n",
      "15000/15000 [==============================] - 1s 51us/sample - loss: 0.2239 - accuracy: 0.9232 - val_loss: 0.3008 - val_accuracy: 0.8823\n",
      "Epoch 20/40\n",
      "15000/15000 [==============================] - 1s 50us/sample - loss: 0.2135 - accuracy: 0.9273 - val_loss: 0.2963 - val_accuracy: 0.8829\n",
      "Epoch 21/40\n",
      "15000/15000 [==============================] - 1s 51us/sample - loss: 0.2037 - accuracy: 0.9311 - val_loss: 0.2933 - val_accuracy: 0.8828\n",
      "Epoch 22/40\n",
      "15000/15000 [==============================] - 1s 51us/sample - loss: 0.1942 - accuracy: 0.9346 - val_loss: 0.2907 - val_accuracy: 0.8843\n",
      "Epoch 23/40\n",
      "15000/15000 [==============================] - 1s 50us/sample - loss: 0.1855 - accuracy: 0.9387 - val_loss: 0.2887 - val_accuracy: 0.8853\n",
      "Epoch 24/40\n",
      "15000/15000 [==============================] - 1s 50us/sample - loss: 0.1775 - accuracy: 0.9422 - val_loss: 0.2879 - val_accuracy: 0.8849\n",
      "Epoch 25/40\n",
      "15000/15000 [==============================] - 1s 51us/sample - loss: 0.1693 - accuracy: 0.9451 - val_loss: 0.2867 - val_accuracy: 0.8853\n",
      "Epoch 26/40\n",
      "15000/15000 [==============================] - 1s 50us/sample - loss: 0.1620 - accuracy: 0.9487 - val_loss: 0.2866 - val_accuracy: 0.8849\n",
      "Epoch 27/40\n",
      "15000/15000 [==============================] - 1s 52us/sample - loss: 0.1549 - accuracy: 0.9517 - val_loss: 0.2865 - val_accuracy: 0.8865\n",
      "Epoch 28/40\n",
      "15000/15000 [==============================] - 1s 50us/sample - loss: 0.1484 - accuracy: 0.9541 - val_loss: 0.2869 - val_accuracy: 0.8868\n",
      "Epoch 29/40\n",
      "15000/15000 [==============================] - 1s 49us/sample - loss: 0.1420 - accuracy: 0.9569 - val_loss: 0.2877 - val_accuracy: 0.8868\n",
      "Epoch 30/40\n",
      "15000/15000 [==============================] - 1s 51us/sample - loss: 0.1363 - accuracy: 0.9588 - val_loss: 0.2899 - val_accuracy: 0.8848\n",
      "Epoch 31/40\n",
      "15000/15000 [==============================] - 1s 51us/sample - loss: 0.1305 - accuracy: 0.9620 - val_loss: 0.2912 - val_accuracy: 0.8860\n",
      "Epoch 32/40\n",
      "15000/15000 [==============================] - 1s 51us/sample - loss: 0.1254 - accuracy: 0.9633 - val_loss: 0.2927 - val_accuracy: 0.8863\n",
      "Epoch 33/40\n",
      "15000/15000 [==============================] - 1s 51us/sample - loss: 0.1199 - accuracy: 0.9666 - val_loss: 0.2941 - val_accuracy: 0.8857\n",
      "Epoch 34/40\n",
      "15000/15000 [==============================] - 1s 51us/sample - loss: 0.1151 - accuracy: 0.9675 - val_loss: 0.2978 - val_accuracy: 0.8838\n",
      "Epoch 35/40\n",
      "15000/15000 [==============================] - 1s 51us/sample - loss: 0.1105 - accuracy: 0.9690 - val_loss: 0.2994 - val_accuracy: 0.8857\n",
      "Epoch 36/40\n",
      "15000/15000 [==============================] - 1s 51us/sample - loss: 0.1058 - accuracy: 0.9707 - val_loss: 0.3022 - val_accuracy: 0.8848\n",
      "Epoch 37/40\n",
      "15000/15000 [==============================] - 1s 51us/sample - loss: 0.1015 - accuracy: 0.9717 - val_loss: 0.3055 - val_accuracy: 0.8841\n",
      "Epoch 38/40\n",
      "15000/15000 [==============================] - 1s 50us/sample - loss: 0.0973 - accuracy: 0.9740 - val_loss: 0.3081 - val_accuracy: 0.8823\n",
      "Epoch 39/40\n",
      "15000/15000 [==============================] - 1s 50us/sample - loss: 0.0937 - accuracy: 0.9751 - val_loss: 0.3112 - val_accuracy: 0.8825\n",
      "Epoch 40/40\n",
      "15000/15000 [==============================] - 1s 50us/sample - loss: 0.0897 - accuracy: 0.9765 - val_loss: 0.3149 - val_accuracy: 0.8829\n"
     ]
    }
   ],
   "source": [
    "history = model.fit(partial_x_train,\n",
    "                    partial_y_train,\n",
    "                    epochs=40, # 횟수\n",
    "                    batch_size=512, # 샘플 크기\n",
    "                    validation_data=(x_val, y_val),\n",
    "                    verbose=1)"
   ]
  },
  {
   "cell_type": "code",
   "execution_count": 28,
   "metadata": {},
   "outputs": [
    {
     "name": "stdout",
     "output_type": "stream",
     "text": [
      "25000/25000 - 2s - loss: 0.3369 - accuracy: 0.8717\n",
      "[0.3369118237257004, 0.87172]\n"
     ]
    }
   ],
   "source": [
    "results = model.evaluate(test_data, test_labels, verbose=2)\n",
    "print(results)"
   ]
  },
  {
   "cell_type": "code",
   "execution_count": 29,
   "metadata": {},
   "outputs": [
    {
     "data": {
      "text/plain": [
       "dict_keys(['loss', 'accuracy', 'val_loss', 'val_accuracy'])"
      ]
     },
     "execution_count": 29,
     "metadata": {},
     "output_type": "execute_result"
    }
   ],
   "source": [
    "history_dict = history.history\n",
    "history_dict.keys()"
   ]
  },
  {
   "cell_type": "code",
   "execution_count": 30,
   "metadata": {},
   "outputs": [
    {
     "data": {
      "image/png": "[encoded data removed]",
      "text/plain": [
       "<Figure size 432x288 with 1 Axes>"
      ]
     },
     "metadata": {
      "needs_background": "light"
     },
     "output_type": "display_data"
    }
   ],
   "source": [
    "import matplotlib.pyplot as plt\n",
    "acc = history_dict['accuracy']\n",
    "val_acc = history_dict['val_accuracy']\n",
    "loss = history_dict['loss']\n",
    "val_loss = history_dict['val_loss']\n",
    "epochs = range(1, len(acc) + 1)\n",
    "plt.plot(epochs, loss, 'bo', label='Training loss') # \"bo\"는 \"파란색 점\"\n",
    "plt.plot(epochs, val_loss, 'b', label='Validation loss') # b는 \"파란 실선\n",
    "plt.title('Training and validation loss')\n",
    "plt.xlabel('Epochs')\n",
    "plt.ylabel('Loss')\n",
    "plt.legend()\n",
    "plt.show()"
   ]
  },
  {
   "cell_type": "code",
   "execution_count": 31,
   "metadata": {},
   "outputs": [
    {
     "data": {
      "image/png": "[encoded data removed]",
      "text/plain": [
       "<Figure size 432x288 with 1 Axes>"
      ]
     },
     "metadata": {
      "needs_background": "light"
     },
     "output_type": "display_data"
    }
   ],
   "source": [
    "plt.clf() # 그림을 초기화합니다\n",
    "plt.plot(epochs, acc, 'bo', label='Training acc')\n",
    "plt.plot(epochs, val_acc, 'b', label='Validation acc')\n",
    "plt.title('Training and validation accuracy')\n",
    "plt.xlabel('Epochs')\n",
    "plt.ylabel('Accuracy')\n",
    "plt.legend()\n",
    "plt.show()"
   ]
  }
 ],
 "metadata": {
  "kernelspec": {
   "display_name": "Python 3",
   "language": "python",
   "name": "python3"
  },
  "language_info": {
   "codemirror_mode": {
    "name": "ipython",
    "version": 3
   },
   "file_extension": ".py",
   "mimetype": "text/x-python",
   "name": "python",
   "nbconvert_exporter": "python",
   "pygments_lexer": "ipython3",
   "version": "3.7.9"
  }
 },
 "nbformat": 4,
 "nbformat_minor": 4
}
